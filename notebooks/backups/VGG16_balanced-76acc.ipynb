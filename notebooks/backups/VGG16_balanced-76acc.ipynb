{
 "cells": [
  {
   "cell_type": "markdown",
   "metadata": {},
   "source": [
    "Importing Libraries and Dependencies"
   ]
  },
  {
   "cell_type": "code",
   "execution_count": 1,
   "metadata": {},
   "outputs": [],
   "source": [
    "from tensorflow.compat.v1 import ConfigProto\n",
    "from tensorflow.compat.v1 import InteractiveSession\n",
    "\n",
    "config = ConfigProto()\n",
    "config.gpu_options.allow_growth = True\n",
    "session = InteractiveSession(config=config)\n",
    "\n",
    "# Importing necessary packages\n",
    "import tempfile\n",
    "from tensorflow.keras.applications import VGG16\n",
    "from tensorflow.keras.layers import AveragePooling2D\n",
    "from tensorflow.keras.layers import Dropout\n",
    "from tensorflow.keras.layers import Flatten\n",
    "from tensorflow.keras.layers import Dense\n",
    "from tensorflow.keras.layers import Input\n",
    "from tensorflow.keras.models import Model\n",
    "from tensorflow.keras.models import model_from_json\n",
    "from tensorflow.keras.optimizers import Adam\n",
    "from tensorflow.keras import regularizers\n",
    "from tensorflow.keras.callbacks import ModelCheckpoint\n",
    "from tensorflow.keras.callbacks import EarlyStopping\n",
    "from sklearn.model_selection import train_test_split\n",
    "from sklearn.metrics import classification_report\n",
    "from sklearn.metrics import confusion_matrix\n",
    "from sklearn.utils import class_weight\n",
    "from scripts.balanced_generator import BalanceCovidDataset\n",
    "import matplotlib.pyplot as plt\n",
    "import numpy as np\n",
    "import pandas as pd\n",
    "import argparse\n",
    "import os"
   ]
  },
  {
   "cell_type": "markdown",
   "metadata": {},
   "source": [
    "Initialising model arguments and constants"
   ]
  },
  {
   "cell_type": "code",
   "execution_count": 2,
   "metadata": {},
   "outputs": [],
   "source": [
    "# Construct the parser and initialise arguments\n",
    "parser = argparse.ArgumentParser(description='COVID-CNN')\n",
    "\n",
    "parser.add_argument('--input_size', default=480, type=int, help='Dimensions of the input image')\n",
    "parser.add_argument('--n_channels', default=3, type=int, help='Number of channels in the image')\n",
    "parser.add_argument('--train_file', default='train_split.txt', type=str, help='Name of train metadata file')\n",
    "parser.add_argument('--test_file', default='test_split.txt', type=str, help='Name of test metadata file')\n",
    "parser.add_argument('--data_dir', default='data', type=str, help='Path to data folder containing datasets')\n",
    "parser.add_argument('--train_data_dir', default='train', type=str, help='Path to folder containing training dataset')\n",
    "parser.add_argument('--test_data_dir', default='test', type=str, help='Path to folder containing testing dataset')\n",
    "parser.add_argument('--num_classes', default=3, type=int, help='Number of classes in the dataset')\n",
    "parser.add_argument('--num_channels', default=3, type=int, help='Number of channels per image')\n",
    "parser.add_argument('--epochs', default=15, type=int, help='Number of epochs to train for')\n",
    "parser.add_argument('--bs', default=8, type=int, help='Batch size')\n",
    "parser.add_argument('--lr', default=0.0002, type=float, help='Learning rate')\n",
    "parser.add_argument(\"-p\", \"--plot\", type=str, default=\"plots/plot.png\", help=\"Path to save loss/accuracy plot\")\n",
    "parser.add_argument(\"-mp\", \"--model_plot\", type=str, default=\"plots/model_plot.png\", help=\"Path to save model's plot\")\n",
    "parser.add_argument(\"--model_dir\", type=str, default=\"saved_models/\", help=\"Path to save model\")\n",
    "parser.add_argument(\"--model_name\", type=str, default=\"VGG16\", help=\"Name of the model\")\n",
    "\n",
    "args, unknown = parser.parse_known_args()\n",
    "\n",
    "# Declaring constants\n",
    "EPOCHS = args.epochs\n",
    "BS = args.bs\n",
    "LR = args.lr"
   ]
  },
  {
   "cell_type": "markdown",
   "metadata": {},
   "source": [
    "Data exploration"
   ]
  },
  {
   "cell_type": "code",
   "execution_count": 3,
   "metadata": {},
   "outputs": [
    {
     "data": {
      "image/png": "[encoded data removed]",
      "text/plain": [
       "<Figure size 432x288 with 1 Axes>"
      ]
     },
     "metadata": {
      "needs_background": "light"
     },
     "output_type": "display_data"
    },
    {
     "data": {
      "image/png": "[encoded data removed]",
      "text/plain": [
       "<Figure size 432x288 with 1 Axes>"
      ]
     },
     "metadata": {
      "needs_background": "light"
     },
     "output_type": "display_data"
    }
   ],
   "source": [
    "# Reading training dataset csv and extracting labels\n",
    "df_train = pd.read_csv(args.train_file, sep=' ', header=0, index_col=None)\n",
    "train_labels = df_train['class']\n",
    "\n",
    "# Reading testing dataset csv and extracting labels\n",
    "df_test = pd.read_csv(args.test_file, sep=' ', header=0, index_col=None)\n",
    "test_labels = df_test['class']\n",
    "\n",
    "# Extracting unique classes\n",
    "classes = test_labels.unique()\n",
    "\n",
    "# Plotting distribution of classes in training dataset\n",
    "unique, counts = np.unique(test_labels, return_counts=True)\n",
    "plt.bar(unique, counts)\n",
    "\n",
    "plt.title('Class Frequency Training Dataset')\n",
    "plt.xlabel('Class')\n",
    "plt.ylabel('Frequency')\n",
    "\n",
    "plt.show()\n",
    "\n",
    "# Plotting distribution of classes in testing dataset\n",
    "unique, counts = np.unique(test_labels, return_counts=True)\n",
    "plt.bar(unique, counts)\n",
    "\n",
    "plt.title('Class Frequency Testing Dataset')\n",
    "plt.xlabel('Class')\n",
    "plt.ylabel('Frequency')\n",
    "\n",
    "plt.show()"
   ]
  },
  {
   "cell_type": "markdown",
   "metadata": {},
   "source": [
    "Creating the model"
   ]
  },
  {
   "cell_type": "code",
   "execution_count": 4,
   "metadata": {},
   "outputs": [],
   "source": [
    "# Method to add regularisation\n",
    "def add_regularization(model, regularizer=regularizers.l2(0.0001)):\n",
    "\n",
    "    if not isinstance(regularizer, regularizers.Regularizer):\n",
    "      print(\"Regularizer must be a subclass of tf.keras.regularizers.Regularizer\")\n",
    "      return model\n",
    "\n",
    "    for layer in model.layers:\n",
    "        for attr in ['kernel_regularizer']:\n",
    "            if hasattr(layer, attr):\n",
    "              setattr(layer, attr, regularizer)\n",
    "\n",
    "    # When we change the layers attributes, the change only happens in the model config file\n",
    "    model_json = model.to_json()\n",
    "\n",
    "    # Save the weights before reloading the model.\n",
    "    tmp_weights_path = os.path.join(tempfile.gettempdir(), 'tmp_weights.h5')\n",
    "    model.save_weights(tmp_weights_path)\n",
    "\n",
    "    # Load the model from the config\n",
    "    model = model_from_json(model_json)\n",
    "\n",
    "    # Reload the model weights\n",
    "    model.load_weights(tmp_weights_path, by_name=True)\n",
    "    return model\n",
    "\n",
    "def create_model():\n",
    "    # Loading VGG16 model trained on imagenet without head\n",
    "    baseModel = VGG16(\n",
    "        weights=\"imagenet\", include_top=False,\n",
    "        input_tensor=Input(shape=(args.input_size, args.input_size,\n",
    "                                  args.n_channels))\n",
    "    )\n",
    "\n",
    "    # Constructing the head for classification (to be trained)\n",
    "    headModel = baseModel.output\n",
    "    headModel = AveragePooling2D(pool_size=(4, 4))(headModel)\n",
    "    headModel = Flatten(name=\"flatten\")(headModel)\n",
    "    headModel = Dense(64, activation=\"relu\")(headModel)\n",
    "    headModel = Dropout(0.5)(headModel)\n",
    "    headModel = Dense(3, activation=\"softmax\")(headModel)\n",
    "\n",
    "    # Fixing the weights of base model\n",
    "    baseModel.trainable = False\n",
    "    \n",
    "    #  Adding regularisation\n",
    "    model = Model(inputs=baseModel.input, outputs=headModel)\n",
    "    model = add_regularization(model)\n",
    "    return model"
   ]
  },
  {
   "cell_type": "markdown",
   "metadata": {},
   "source": [
    "Hyperparameter search"
   ]
  },
  {
   "cell_type": "code",
   "execution_count": 5,
   "metadata": {},
   "outputs": [],
   "source": [
    "# model = KerasClassifier(build_fn=create_model, verbose=0)\n",
    "# batch_size = [8, 16, 32]\n",
    "# epochs = [1, 2, 3]\n",
    "# param_grid = dict(batch_size=batch_size, epochs=epochs)\n",
    "# grid = GridSearchCV(estimator=model, param_grid=param_grid, n_jobs=-1, cv=3)\n",
    "# grid_result = grid.fit(X, Y)\n",
    "# # summarize results\n",
    "# print(\"Best: %f using %s\" % (grid_result.best_score_, grid_result.best_params_))\n",
    "# means = grid_result.cv_results_['mean_test_score']\n",
    "# stds = grid_result.cv_results_['std_test_score']\n",
    "# params = grid_result.cv_results_['params']\n",
    "# for mean, stdev, param in zip(means, stds, params):\n",
    "#     print(\"%f (%f) with: %r\" % (mean, stdev, param))\n",
    "\n",
    "model = create_model()"
   ]
  },
  {
   "cell_type": "markdown",
   "metadata": {},
   "source": [
    "Instantiating data generators to load datasets"
   ]
  },
  {
   "cell_type": "code",
   "execution_count": 6,
   "metadata": {},
   "outputs": [],
   "source": [
    "map = {\n",
    "        'normal': 0,\n",
    "        'pneumonia': 1,\n",
    "        'COVID-19': 2\n",
    "        }\n",
    "test_generator = BalanceCovidDataset(\n",
    "        data_dir=os.path.join(args.data_dir),\n",
    "        data_files=df_test.to_csv(header=None, index=False, sep=\" \").strip('\\n').split(\"\\n\"),\n",
    "        batch_size=1,\n",
    "        input_shape=(args.input_size, args.input_size),\n",
    "        num_channels=args.num_channels,\n",
    "        mapping=map,\n",
    "        is_training=False,\n",
    "        is_validation=False,\n",
    "        is_testing=True\n",
    ")\n",
    "\n",
    "\n",
    "def get_model(df_trn, df_val):\n",
    "    map = {\n",
    "            'normal': 0,\n",
    "            'pneumonia': 1,\n",
    "            'COVID-19': 2\n",
    "            }\n",
    "    trn_generator = BalanceCovidDataset(\n",
    "        data_dir=os.path.join(args.data_dir),\n",
    "        data_files=df_trn.to_csv(header=None, index=False, sep=\" \").strip('\\n').split(\"\\n\"),\n",
    "        batch_size=BS,\n",
    "        input_shape=(args.input_size, args.input_size),\n",
    "        num_channels=args.num_channels,\n",
    "        mapping=map\n",
    "    )\n",
    "\n",
    "    val_generator = BalanceCovidDataset(\n",
    "        data_dir=os.path.join(args.data_dir),\n",
    "        data_files=df_val.to_csv(header=None, index=False, sep=\" \").strip('\\n').split(\"\\n\"),\n",
    "        batch_size=BS,\n",
    "        input_shape=(args.input_size, args.input_size),\n",
    "        num_channels=args.num_channels,\n",
    "        mapping=map,\n",
    "        is_training=False,\n",
    "        is_validation=True\n",
    "    )\n",
    "\n",
    "    return model, trn_generator, val_generator"
   ]
  },
  {
   "cell_type": "markdown",
   "metadata": {},
   "source": [
    "Training the model"
   ]
  },
  {
   "cell_type": "code",
   "execution_count": 7,
   "metadata": {},
   "outputs": [
    {
     "name": "stdout",
     "output_type": "stream",
     "text": [
      "[INFO] Training model\n",
      "Epoch 1/15\n",
      "1125/1125 [==============================] - ETA: 0s - loss: 0.4118 - accuracy: 0.9237\n",
      "Epoch 00001: val_accuracy improved from -inf to 0.94043, saving model to saved_models/VGG16\n",
      "WARNING:tensorflow:From /homes/as405/anaconda3/envs/covid/lib/python3.8/site-packages/tensorflow/python/ops/resource_variable_ops.py:1813: calling BaseResourceVariable.__init__ (from tensorflow.python.ops.resource_variable_ops) with constraint is deprecated and will be removed in a future version.\n",
      "Instructions for updating:\n",
      "If using Keras pass *_constraint arguments to layers.\n",
      "INFO:tensorflow:Assets written to: saved_models/VGG16/assets\n",
      "1125/1125 [==============================] - 336s 298ms/step - loss: 0.4118 - accuracy: 0.9237 - val_loss: 0.3060 - val_accuracy: 0.9404\n",
      "Epoch 2/15\n",
      "1125/1125 [==============================] - ETA: 0s - loss: 0.3145 - accuracy: 0.9463\n",
      "Epoch 00002: val_accuracy improved from 0.94043 to 0.95522, saving model to saved_models/VGG16\n",
      "INFO:tensorflow:Assets written to: saved_models/VGG16/assets\n",
      "1125/1125 [==============================] - 291s 258ms/step - loss: 0.3145 - accuracy: 0.9463 - val_loss: 0.2768 - val_accuracy: 0.9552\n",
      "Epoch 3/15\n",
      "1125/1125 [==============================] - ETA: 0s - loss: 0.3039 - accuracy: 0.9514\n",
      "Epoch 00003: val_accuracy improved from 0.95522 to 0.97543, saving model to saved_models/VGG16\n",
      "INFO:tensorflow:Assets written to: saved_models/VGG16/assets\n",
      "1125/1125 [==============================] - 288s 256ms/step - loss: 0.3039 - accuracy: 0.9514 - val_loss: 0.2533 - val_accuracy: 0.9754\n",
      "Epoch 4/15\n",
      "1125/1125 [==============================] - ETA: 0s - loss: 0.2915 - accuracy: 0.9563\n",
      "Epoch 00004: val_accuracy did not improve from 0.97543\n",
      "1125/1125 [==============================] - 283s 252ms/step - loss: 0.2915 - accuracy: 0.9563 - val_loss: 0.2490 - val_accuracy: 0.9713\n",
      "Epoch 5/15\n",
      "1125/1125 [==============================] - ETA: 0s - loss: 0.2879 - accuracy: 0.9598\n",
      "Epoch 00005: val_accuracy did not improve from 0.97543\n",
      "1125/1125 [==============================] - 285s 253ms/step - loss: 0.2879 - accuracy: 0.9598 - val_loss: 0.2560 - val_accuracy: 0.9687\n",
      "Epoch 00005: early stopping\n"
     ]
    },
    {
     "data": {
      "image/png": "[encoded data removed]",
      "text/plain": [
       "<Figure size 432x288 with 1 Axes>"
      ]
     },
     "metadata": {},
     "output_type": "display_data"
    }
   ],
   "source": [
    "X_train, X_test, _, _ = train_test_split(df_train, df_train['class'], test_size=0.33, random_state=42)\n",
    "\n",
    "# Getting model and generators fitted on ith fold data\n",
    "model, train_generator, validation_generator = get_model(X_train, X_test)\n",
    "\n",
    "# Compiling the model\n",
    "opt = Adam(learning_rate=LR)\n",
    "model.compile(optimizer=opt, loss=\"categorical_crossentropy\", metrics=['accuracy'])\n",
    "\n",
    "train_classes = pd.DataFrame(train_generator.classes)\n",
    "n_train = len(train_classes[train_classes.isin(['normal', 'pneumonia'])])\n",
    "\n",
    "val_classes = pd.DataFrame(validation_generator.classes)\n",
    "n_val = len(val_classes[val_classes.isin(['normal', 'pneumonia'])])\n",
    "\n",
    "#print('n_train: {}, n_val:{}'.format(n_train,n_val))\n",
    "\n",
    "# # Calculating class weights since COVID-19 data is very less\n",
    "# class_weights = class_weight.compute_class_weight('balanced',\n",
    "#                                                   classes,\n",
    "#                                                   train_labels)\n",
    "# cw = {}\n",
    "# for i in range(0, 3):\n",
    "#     cw.update({map.get(classes[i]): class_weights[i]})\n",
    "class_weights = {0:1.0, 1:1.0, 2:3.0}\n",
    "\n",
    "\n",
    "# CREATE CALLBACKS\n",
    "checkpoint = ModelCheckpoint(args.model_dir+args.model_name, \n",
    "                        monitor='val_accuracy', verbose=1, \n",
    "                        save_best_only=True, mode='max')\n",
    "es = EarlyStopping(monitor='val_accuracy', mode='max', verbose=1, patience=2)\n",
    "callbacks_list = [checkpoint, es]\n",
    "\n",
    "# Training model\n",
    "print(\"[INFO] Training model\")\n",
    "H = model.fit(\n",
    "    train_generator,\n",
    "    steps_per_epoch=len(train_generator),\n",
    "    validation_data=validation_generator,\n",
    "    validation_steps=len(validation_generator),\n",
    "    epochs=EPOCHS,\n",
    "    callbacks=callbacks_list)\n",
    "\n",
    "# Plotting training loss and accuracy\n",
    "N = len(H.history[\"loss\"])\n",
    "plt.style.use(\"ggplot\")\n",
    "plt.figure()\n",
    "plt.plot(np.arange(0, N), H.history[\"loss\"], label=\"train_loss\")\n",
    "plt.plot(np.arange(0, N), H.history[\"val_loss\"], label=\"val_loss\")\n",
    "plt.plot(np.arange(0, N), H.history[\"accuracy\"], label=\"train_acc\")\n",
    "plt.plot(np.arange(0, N), H.history[\"val_accuracy\"], label=\"val_acc\")\n",
    "plt.title(\"Training Loss and Accuracy on COVIDx\")\n",
    "plt.xlabel(\"Epoch #\")\n",
    "plt.ylabel(\"Loss/Accuracy\")\n",
    "plt.legend(loc=\"lower left\")\n",
    "plt.savefig(args.plot)"
   ]
  },
  {
   "cell_type": "markdown",
   "metadata": {},
   "source": [
    "Evaluating the model and generating predictions"
   ]
  },
  {
   "cell_type": "code",
   "execution_count": 8,
   "metadata": {},
   "outputs": [
    {
     "name": "stdout",
     "output_type": "stream",
     "text": [
      "[INFO] Predicting on testing data\n",
      "1579/1579 [==============================] - 56s 36ms/step\n",
      "              precision    recall  f1-score   support\n",
      "\n",
      "      normal       0.83      0.93      0.88       885\n",
      "   pneumonia       0.90      0.53      0.67       594\n",
      "    COVID-19       0.29      0.67      0.40       100\n",
      "\n",
      "    accuracy                           0.76      1579\n",
      "   macro avg       0.67      0.71      0.65      1579\n",
      "weighted avg       0.82      0.76      0.77      1579\n",
      "\n"
     ]
    }
   ],
   "source": [
    "# Predicting on testing data\n",
    "print(\"[INFO] Predicting on testing data\")\n",
    "\n",
    "nb_samples = len(df_test[df_test['class'].isin(['normal','pneumonia'])])\n",
    "# Loading best model\n",
    "pred = model.predict(test_generator, steps=len(test_generator), verbose=1)\n",
    "pred = np.argmax(pred, axis=1)\n",
    "\n",
    "# Getting class label map\n",
    "temp = []\n",
    "for i in test_labels:\n",
    "    temp.append(map.get(i))\n",
    "\n",
    "# Printing classification report\n",
    "print(classification_report(temp, pred, target_names=map))"
   ]
  },
  {
   "cell_type": "markdown",
   "metadata": {},
   "source": [
    "Printing confusion matrix"
   ]
  },
  {
   "cell_type": "code",
   "execution_count": null,
   "metadata": {},
   "outputs": [],
   "source": []
  },
  {
   "cell_type": "code",
   "execution_count": 9,
   "metadata": {},
   "outputs": [
    {
     "name": "stdout",
     "output_type": "stream",
     "text": [
      "[[827  32  26]\n",
      " [143 313 138]\n",
      " [ 31   2  67]]\n",
      "Overall Accuracy: 0.7644\n",
      "COVID Sensitivity: 0.9345\n",
      "COVID Specificity: 0.7493\n"
     ]
    }
   ],
   "source": [
    "# Generating confusion matrix and calculating: accuracy, sensitivity and specificity\n",
    "cm = confusion_matrix(temp, pred)\n",
    "total = sum(sum(cm))\n",
    "acc = (cm[0, 0] + cm[1, 1] + cm[2, 2]) / total\n",
    "sensitivity = cm[0, 0] / (cm[0, 0] + cm[0, 1] + cm[0, 2])\n",
    "TN = cm[1, 1] + cm[1, 2] + cm[2, 1] + cm[2, 2]\n",
    "FP = cm[1, 0] + cm[2, 0]\n",
    "specificity = TN / (TN + FP)\n",
    "\n",
    "# Printing found values\n",
    "print(cm)\n",
    "print(\"Overall Accuracy: {:.4f}\".format(acc))\n",
    "print(\"COVID Sensitivity: {:.4f}\".format(sensitivity))\n",
    "print(\"COVID Specificity: {:.4f}\".format(specificity))"
   ]
  },
  {
   "cell_type": "markdown",
   "metadata": {},
   "source": [
    "Plotting the training performance"
   ]
  },
  {
   "cell_type": "code",
   "execution_count": 10,
   "metadata": {},
   "outputs": [
    {
     "ename": "ValueError",
     "evalue": "x and y must have same first dimension, but have shapes (15,) and (5,)",
     "output_type": "error",
     "traceback": [
      "\u001b[0;31m---------------------------------------------------------------------------\u001b[0m",
      "\u001b[0;31mValueError\u001b[0m                                Traceback (most recent call last)",
      "\u001b[0;32m<ipython-input-10-a4405a7fabeb>\u001b[0m in \u001b[0;36m<module>\u001b[0;34m\u001b[0m\n\u001b[1;32m      3\u001b[0m \u001b[0mplt\u001b[0m\u001b[0;34m.\u001b[0m\u001b[0mstyle\u001b[0m\u001b[0;34m.\u001b[0m\u001b[0muse\u001b[0m\u001b[0;34m(\u001b[0m\u001b[0;34m\"ggplot\"\u001b[0m\u001b[0;34m)\u001b[0m\u001b[0;34m\u001b[0m\u001b[0;34m\u001b[0m\u001b[0m\n\u001b[1;32m      4\u001b[0m \u001b[0mplt\u001b[0m\u001b[0;34m.\u001b[0m\u001b[0mfigure\u001b[0m\u001b[0;34m(\u001b[0m\u001b[0;34m)\u001b[0m\u001b[0;34m\u001b[0m\u001b[0;34m\u001b[0m\u001b[0m\n\u001b[0;32m----> 5\u001b[0;31m \u001b[0mplt\u001b[0m\u001b[0;34m.\u001b[0m\u001b[0mplot\u001b[0m\u001b[0;34m(\u001b[0m\u001b[0mnp\u001b[0m\u001b[0;34m.\u001b[0m\u001b[0marange\u001b[0m\u001b[0;34m(\u001b[0m\u001b[0;36m0\u001b[0m\u001b[0;34m,\u001b[0m \u001b[0mN\u001b[0m\u001b[0;34m)\u001b[0m\u001b[0;34m,\u001b[0m \u001b[0mH\u001b[0m\u001b[0;34m.\u001b[0m\u001b[0mhistory\u001b[0m\u001b[0;34m[\u001b[0m\u001b[0;34m\"loss\"\u001b[0m\u001b[0;34m]\u001b[0m\u001b[0;34m,\u001b[0m \u001b[0mlabel\u001b[0m\u001b[0;34m=\u001b[0m\u001b[0;34m\"train_loss\"\u001b[0m\u001b[0;34m)\u001b[0m\u001b[0;34m\u001b[0m\u001b[0;34m\u001b[0m\u001b[0m\n\u001b[0m\u001b[1;32m      6\u001b[0m \u001b[0mplt\u001b[0m\u001b[0;34m.\u001b[0m\u001b[0mplot\u001b[0m\u001b[0;34m(\u001b[0m\u001b[0mnp\u001b[0m\u001b[0;34m.\u001b[0m\u001b[0marange\u001b[0m\u001b[0;34m(\u001b[0m\u001b[0;36m0\u001b[0m\u001b[0;34m,\u001b[0m \u001b[0mN\u001b[0m\u001b[0;34m)\u001b[0m\u001b[0;34m,\u001b[0m \u001b[0mH\u001b[0m\u001b[0;34m.\u001b[0m\u001b[0mhistory\u001b[0m\u001b[0;34m[\u001b[0m\u001b[0;34m\"val_loss\"\u001b[0m\u001b[0;34m]\u001b[0m\u001b[0;34m,\u001b[0m \u001b[0mlabel\u001b[0m\u001b[0;34m=\u001b[0m\u001b[0;34m\"val_loss\"\u001b[0m\u001b[0;34m)\u001b[0m\u001b[0;34m\u001b[0m\u001b[0;34m\u001b[0m\u001b[0m\n\u001b[1;32m      7\u001b[0m \u001b[0mplt\u001b[0m\u001b[0;34m.\u001b[0m\u001b[0mplot\u001b[0m\u001b[0;34m(\u001b[0m\u001b[0mnp\u001b[0m\u001b[0;34m.\u001b[0m\u001b[0marange\u001b[0m\u001b[0;34m(\u001b[0m\u001b[0;36m0\u001b[0m\u001b[0;34m,\u001b[0m \u001b[0mN\u001b[0m\u001b[0;34m)\u001b[0m\u001b[0;34m,\u001b[0m \u001b[0mH\u001b[0m\u001b[0;34m.\u001b[0m\u001b[0mhistory\u001b[0m\u001b[0;34m[\u001b[0m\u001b[0;34m\"accuracy\"\u001b[0m\u001b[0;34m]\u001b[0m\u001b[0;34m,\u001b[0m \u001b[0mlabel\u001b[0m\u001b[0;34m=\u001b[0m\u001b[0;34m\"train_acc\"\u001b[0m\u001b[0;34m)\u001b[0m\u001b[0;34m\u001b[0m\u001b[0;34m\u001b[0m\u001b[0m\n",
      "\u001b[0;32m~/anaconda3/envs/covid/lib/python3.8/site-packages/matplotlib/pyplot.py\u001b[0m in \u001b[0;36mplot\u001b[0;34m(scalex, scaley, data, *args, **kwargs)\u001b[0m\n\u001b[1;32m   2822\u001b[0m \u001b[0;34m@\u001b[0m\u001b[0m_copy_docstring_and_deprecators\u001b[0m\u001b[0;34m(\u001b[0m\u001b[0mAxes\u001b[0m\u001b[0;34m.\u001b[0m\u001b[0mplot\u001b[0m\u001b[0;34m)\u001b[0m\u001b[0;34m\u001b[0m\u001b[0;34m\u001b[0m\u001b[0m\n\u001b[1;32m   2823\u001b[0m \u001b[0;32mdef\u001b[0m \u001b[0mplot\u001b[0m\u001b[0;34m(\u001b[0m\u001b[0;34m*\u001b[0m\u001b[0margs\u001b[0m\u001b[0;34m,\u001b[0m \u001b[0mscalex\u001b[0m\u001b[0;34m=\u001b[0m\u001b[0;32mTrue\u001b[0m\u001b[0;34m,\u001b[0m \u001b[0mscaley\u001b[0m\u001b[0;34m=\u001b[0m\u001b[0;32mTrue\u001b[0m\u001b[0;34m,\u001b[0m \u001b[0mdata\u001b[0m\u001b[0;34m=\u001b[0m\u001b[0;32mNone\u001b[0m\u001b[0;34m,\u001b[0m \u001b[0;34m**\u001b[0m\u001b[0mkwargs\u001b[0m\u001b[0;34m)\u001b[0m\u001b[0;34m:\u001b[0m\u001b[0;34m\u001b[0m\u001b[0;34m\u001b[0m\u001b[0m\n\u001b[0;32m-> 2824\u001b[0;31m     return gca().plot(\n\u001b[0m\u001b[1;32m   2825\u001b[0m         \u001b[0;34m*\u001b[0m\u001b[0margs\u001b[0m\u001b[0;34m,\u001b[0m \u001b[0mscalex\u001b[0m\u001b[0;34m=\u001b[0m\u001b[0mscalex\u001b[0m\u001b[0;34m,\u001b[0m \u001b[0mscaley\u001b[0m\u001b[0;34m=\u001b[0m\u001b[0mscaley\u001b[0m\u001b[0;34m,\u001b[0m\u001b[0;34m\u001b[0m\u001b[0;34m\u001b[0m\u001b[0m\n\u001b[1;32m   2826\u001b[0m         **({\"data\": data} if data is not None else {}), **kwargs)\n",
      "\u001b[0;32m~/anaconda3/envs/covid/lib/python3.8/site-packages/matplotlib/axes/_axes.py\u001b[0m in \u001b[0;36mplot\u001b[0;34m(self, scalex, scaley, data, *args, **kwargs)\u001b[0m\n\u001b[1;32m   1741\u001b[0m         \"\"\"\n\u001b[1;32m   1742\u001b[0m         \u001b[0mkwargs\u001b[0m \u001b[0;34m=\u001b[0m \u001b[0mcbook\u001b[0m\u001b[0;34m.\u001b[0m\u001b[0mnormalize_kwargs\u001b[0m\u001b[0;34m(\u001b[0m\u001b[0mkwargs\u001b[0m\u001b[0;34m,\u001b[0m \u001b[0mmlines\u001b[0m\u001b[0;34m.\u001b[0m\u001b[0mLine2D\u001b[0m\u001b[0;34m)\u001b[0m\u001b[0;34m\u001b[0m\u001b[0;34m\u001b[0m\u001b[0m\n\u001b[0;32m-> 1743\u001b[0;31m         \u001b[0mlines\u001b[0m \u001b[0;34m=\u001b[0m \u001b[0;34m[\u001b[0m\u001b[0;34m*\u001b[0m\u001b[0mself\u001b[0m\u001b[0;34m.\u001b[0m\u001b[0m_get_lines\u001b[0m\u001b[0;34m(\u001b[0m\u001b[0;34m*\u001b[0m\u001b[0margs\u001b[0m\u001b[0;34m,\u001b[0m \u001b[0mdata\u001b[0m\u001b[0;34m=\u001b[0m\u001b[0mdata\u001b[0m\u001b[0;34m,\u001b[0m \u001b[0;34m**\u001b[0m\u001b[0mkwargs\u001b[0m\u001b[0;34m)\u001b[0m\u001b[0;34m]\u001b[0m\u001b[0;34m\u001b[0m\u001b[0;34m\u001b[0m\u001b[0m\n\u001b[0m\u001b[1;32m   1744\u001b[0m         \u001b[0;32mfor\u001b[0m \u001b[0mline\u001b[0m \u001b[0;32min\u001b[0m \u001b[0mlines\u001b[0m\u001b[0;34m:\u001b[0m\u001b[0;34m\u001b[0m\u001b[0;34m\u001b[0m\u001b[0m\n\u001b[1;32m   1745\u001b[0m             \u001b[0mself\u001b[0m\u001b[0;34m.\u001b[0m\u001b[0madd_line\u001b[0m\u001b[0;34m(\u001b[0m\u001b[0mline\u001b[0m\u001b[0;34m)\u001b[0m\u001b[0;34m\u001b[0m\u001b[0;34m\u001b[0m\u001b[0m\n",
      "\u001b[0;32m~/anaconda3/envs/covid/lib/python3.8/site-packages/matplotlib/axes/_base.py\u001b[0m in \u001b[0;36m__call__\u001b[0;34m(self, data, *args, **kwargs)\u001b[0m\n\u001b[1;32m    271\u001b[0m                 \u001b[0mthis\u001b[0m \u001b[0;34m+=\u001b[0m \u001b[0margs\u001b[0m\u001b[0;34m[\u001b[0m\u001b[0;36m0\u001b[0m\u001b[0;34m]\u001b[0m\u001b[0;34m,\u001b[0m\u001b[0;34m\u001b[0m\u001b[0;34m\u001b[0m\u001b[0m\n\u001b[1;32m    272\u001b[0m                 \u001b[0margs\u001b[0m \u001b[0;34m=\u001b[0m \u001b[0margs\u001b[0m\u001b[0;34m[\u001b[0m\u001b[0;36m1\u001b[0m\u001b[0;34m:\u001b[0m\u001b[0;34m]\u001b[0m\u001b[0;34m\u001b[0m\u001b[0;34m\u001b[0m\u001b[0m\n\u001b[0;32m--> 273\u001b[0;31m             \u001b[0;32myield\u001b[0m \u001b[0;32mfrom\u001b[0m \u001b[0mself\u001b[0m\u001b[0;34m.\u001b[0m\u001b[0m_plot_args\u001b[0m\u001b[0;34m(\u001b[0m\u001b[0mthis\u001b[0m\u001b[0;34m,\u001b[0m \u001b[0mkwargs\u001b[0m\u001b[0;34m)\u001b[0m\u001b[0;34m\u001b[0m\u001b[0;34m\u001b[0m\u001b[0m\n\u001b[0m\u001b[1;32m    274\u001b[0m \u001b[0;34m\u001b[0m\u001b[0m\n\u001b[1;32m    275\u001b[0m     \u001b[0;32mdef\u001b[0m \u001b[0mget_next_color\u001b[0m\u001b[0;34m(\u001b[0m\u001b[0mself\u001b[0m\u001b[0;34m)\u001b[0m\u001b[0;34m:\u001b[0m\u001b[0;34m\u001b[0m\u001b[0;34m\u001b[0m\u001b[0m\n",
      "\u001b[0;32m~/anaconda3/envs/covid/lib/python3.8/site-packages/matplotlib/axes/_base.py\u001b[0m in \u001b[0;36m_plot_args\u001b[0;34m(self, tup, kwargs)\u001b[0m\n\u001b[1;32m    397\u001b[0m \u001b[0;34m\u001b[0m\u001b[0m\n\u001b[1;32m    398\u001b[0m         \u001b[0;32mif\u001b[0m \u001b[0mx\u001b[0m\u001b[0;34m.\u001b[0m\u001b[0mshape\u001b[0m\u001b[0;34m[\u001b[0m\u001b[0;36m0\u001b[0m\u001b[0;34m]\u001b[0m \u001b[0;34m!=\u001b[0m \u001b[0my\u001b[0m\u001b[0;34m.\u001b[0m\u001b[0mshape\u001b[0m\u001b[0;34m[\u001b[0m\u001b[0;36m0\u001b[0m\u001b[0;34m]\u001b[0m\u001b[0;34m:\u001b[0m\u001b[0;34m\u001b[0m\u001b[0;34m\u001b[0m\u001b[0m\n\u001b[0;32m--> 399\u001b[0;31m             raise ValueError(f\"x and y must have same first dimension, but \"\n\u001b[0m\u001b[1;32m    400\u001b[0m                              f\"have shapes {x.shape} and {y.shape}\")\n\u001b[1;32m    401\u001b[0m         \u001b[0;32mif\u001b[0m \u001b[0mx\u001b[0m\u001b[0;34m.\u001b[0m\u001b[0mndim\u001b[0m \u001b[0;34m>\u001b[0m \u001b[0;36m2\u001b[0m \u001b[0;32mor\u001b[0m \u001b[0my\u001b[0m\u001b[0;34m.\u001b[0m\u001b[0mndim\u001b[0m \u001b[0;34m>\u001b[0m \u001b[0;36m2\u001b[0m\u001b[0;34m:\u001b[0m\u001b[0;34m\u001b[0m\u001b[0;34m\u001b[0m\u001b[0m\n",
      "\u001b[0;31mValueError\u001b[0m: x and y must have same first dimension, but have shapes (15,) and (5,)"
     ]
    },
    {
     "data": {
      "image/png": "[encoded data removed]",
      "text/plain": [
       "<Figure size 432x288 with 1 Axes>"
      ]
     },
     "metadata": {},
     "output_type": "display_data"
    }
   ],
   "source": [
    "# Plotting training loss and accuracy\n",
    "N = EPOCHS\n",
    "plt.style.use(\"ggplot\")\n",
    "plt.figure()\n",
    "plt.plot(np.arange(0, N), H.history[\"loss\"], label=\"train_loss\")\n",
    "plt.plot(np.arange(0, N), H.history[\"val_loss\"], label=\"val_loss\")\n",
    "plt.plot(np.arange(0, N), H.history[\"accuracy\"], label=\"train_acc\")\n",
    "plt.plot(np.arange(0, N), H.history[\"val_accuracy\"], label=\"val_acc\")\n",
    "plt.title(\"Training Loss and Accuracy on COVIDx Dataset\")\n",
    "plt.xlabel(\"Epoch #\")\n",
    "plt.ylabel(\"Loss/Accuracy\")\n",
    "plt.legend(loc=\"lower left\")\n",
    "plt.savefig(args.plot)"
   ]
  },
  {
   "cell_type": "code",
   "execution_count": null,
   "metadata": {},
   "outputs": [],
   "source": []
  },
  {
   "cell_type": "code",
   "execution_count": null,
   "metadata": {},
   "outputs": [],
   "source": []
  }
 ],
 "metadata": {
  "kernelspec": {
   "display_name": "Python 3.6 (tensorflow)",
   "language": "python",
   "name": "tensorflow"
  },
  "language_info": {
   "codemirror_mode": {
    "name": "ipython",
    "version": 3
   },
   "file_extension": ".py",
   "mimetype": "text/x-python",
   "name": "python",
   "nbconvert_exporter": "python",
   "pygments_lexer": "ipython3",
   "version": "3.8.5"
  }
 },
 "nbformat": 4,
 "nbformat_minor": 4
}
