{
 "cells": [
  {
   "cell_type": "markdown",
   "metadata": {},
   "source": [
    "Training and running the ensemble"
   ]
  },
  {
   "cell_type": "markdown",
   "metadata": {},
   "source": [
    "Importing necessary ilbraries"
   ]
  },
  {
   "cell_type": "code",
   "execution_count": 1,
   "metadata": {},
   "outputs": [],
   "source": [
    "# Configuring for execution support\n",
    "from tensorflow.compat.v1 import ConfigProto\n",
    "from tensorflow.compat.v1 import InteractiveSession\n",
    "\n",
    "config = ConfigProto()\n",
    "config.gpu_options.allow_growth = True\n",
    "session = InteractiveSession(config=config)\n",
    "\n",
    "# Suppressing warnings\n",
    "import logging\n",
    "import os\n",
    "\n",
    "os.environ['TF_CPP_MIN_LOG_LEVEL'] = '3'  # FATAL\n",
    "logging.getLogger('tensorflow').setLevel(logging.FATAL)\n",
    "\n",
    "# Importing necessary packages\n",
    "from sklearn.linear_model import LogisticRegression\n",
    "import tempfile\n",
    "import tensorflow as tf\n",
    "from tensorflow import keras\n",
    "from numpy import dstack\n",
    "from sklearn.metrics import accuracy_score\n",
    "from tensorflow.keras.layers import AveragePooling2D\n",
    "from tensorflow.keras.layers import Dropout\n",
    "from tensorflow.keras.layers import Flatten\n",
    "from tensorflow.keras.layers import Dense\n",
    "from tensorflow.keras.layers import Input\n",
    "from tensorflow.keras.layers import Reshape\n",
    "from tensorflow.keras.utils import plot_model\n",
    "from tensorflow.keras.layers import Input\n",
    "from tensorflow.keras.layers import concatenate\n",
    "from tensorflow.keras.models import Model\n",
    "from tensorflow.keras.models import load_model\n",
    "from tensorflow.keras.models import model_from_json\n",
    "from tensorflow.keras.optimizers import Adam\n",
    "from tensorflow.keras import regularizers\n",
    "from tensorflow.keras.callbacks import ModelCheckpoint\n",
    "from tensorflow.keras.callbacks import EarlyStopping\n",
    "from tensorflow.keras.models import Sequential\n",
    "from sklearn.model_selection import train_test_split\n",
    "from sklearn.metrics import classification_report\n",
    "from sklearn.metrics import confusion_matrix\n",
    "from sklearn.utils import class_weight\n",
    "from scripts.ensemble_balanced_generator import BalancedDatasetGenerator\n",
    "from scripts.ensemble_processed_generator import ProcessedDatasetGenerator\n",
    "import matplotlib.pyplot as plt\n",
    "import numpy as np\n",
    "import pandas as pd\n",
    "import argparse"
   ]
  },
  {
   "cell_type": "markdown",
   "metadata": {},
   "source": [
    "Initialising model arguments and constants"
   ]
  },
  {
   "cell_type": "code",
   "execution_count": 2,
   "metadata": {},
   "outputs": [],
   "source": [
    "# Construct the parser and initialise arguments\n",
    "parser = argparse.ArgumentParser(description='COVID-CNN')\n",
    "\n",
    "parser.add_argument('--input_size', default=480, type=int, help='Dimensions of the input image')\n",
    "parser.add_argument('--n_channels', default=3, type=int, help='Number of channels in the image')\n",
    "parser.add_argument(\"--model_dir\", type=str, default=\"saved_models/\", help=\"Path to save model\")\n",
    "parser.add_argument('--n_models', default=15, type=int, help='Number of models in the ensemble')\n",
    "parser.add_argument('--model_name', default='ensemble_model', type=str, help='Name of the ensemble model')\n",
    "parser.add_argument('--train_file', default='train_split.txt', type=str, help='Name of train metadata file')\n",
    "parser.add_argument('--test_file', default='test_split.txt', type=str, help='Name of test metadata file')\n",
    "parser.add_argument('--data_dir', default='data', type=str, help='Path to data folder containing datasets')\n",
    "parser.add_argument('--train_data_dir', default='train', type=str, help='Path to folder containing training dataset')\n",
    "parser.add_argument('--test_data_dir', default='test', type=str, help='Path to folder containing testing dataset')\n",
    "parser.add_argument('--num_classes', default=3, type=int, help='Number of classes in the dataset')\n",
    "parser.add_argument('--num_channels', default=3, type=int, help='Number of channels per image')\n",
    "parser.add_argument('--epochs', default=15, type=int, help='Number of epochs to train for')\n",
    "parser.add_argument('--bs', default=8, type=int, help='Batch size')\n",
    "parser.add_argument('--lr', default=0.0002, type=float, help='Learning rate')\n",
    "parser.add_argument(\"-p\", \"--plot\", type=str, default=\"plots/plot.png\", help=\"Path to save loss/accuracy plot\")\n",
    "parser.add_argument(\"-mp\", \"--model_plot\", type=str, default=\"plots/ensemble_model.png\", help=\"Path to save model's plot\")\n",
    "\n",
    "args, unknown = parser.parse_known_args()\n",
    "\n",
    "# Declaring constants\n",
    "EPOCHS = args.epochs\n",
    "BS = args.bs\n",
    "LR = args.lr\n",
    "N_MODELS=args.n_models\n",
    "MODELS=['Xception',\n",
    "        'VGG16',\n",
    "        'VGG19',\n",
    "        'ResNet50V2',\n",
    "        'ResNet101V2',\n",
    "        'ResNet152V2',\n",
    "        'InceptionV3',\n",
    "        'InceptionResNetV2',\n",
    "        'MobileNet',\n",
    "        'MobileNetV2',\n",
    "        'DenseNet121',\n",
    "        'DenseNet169',\n",
    "        'DenseNet201',\n",
    "        'NASNetMobile',\n",
    "        'NASNetLarge']\n"
   ]
  },
  {
   "cell_type": "markdown",
   "metadata": {},
   "source": [
    "Functions to load all method weights and creating the stacked model"
   ]
  },
  {
   "cell_type": "code",
   "execution_count": 3,
   "metadata": {},
   "outputs": [],
   "source": [
    "# loading weights of all models\n",
    "def load_all_models(n_models):\n",
    "    all_models = list()\n",
    "    for i in range(n_models):\n",
    "        # Defining the location of model\n",
    "        filename = os.path.join(args.model_dir,MODELS[i]+'.h5')\n",
    "        # Loading model from file\n",
    "        model = load_model(filename)\n",
    "        # Making all model layers non-trainable\n",
    "        for layer in model.layers:\n",
    "            layer.trainable = False\n",
    "            # Renaming to avoid 'unique layer name' issue\n",
    "            layer._name = MODELS[i] + '_' + layer.name\n",
    "        # Adding to the list of all models\n",
    "        all_models.append(model)\n",
    "        print('[INFO] Loaded: {}'.format(MODELS[i]))\n",
    "    print('[INFO] Loaded all models')\n",
    "    return all_models\n",
    "\n",
    "def create_model(members):  \n",
    "    # Defining ensemble inputs\n",
    "    ensemble_inputs = [model.input for model in members]\n",
    "    # Merging outputs of each model\n",
    "    ensemble_outputs = [model.output for model in members]\n",
    "    merge = concatenate(ensemble_outputs)\n",
    "    # Adding layers to be trained\n",
    "    hidden = Dense(10, activation='relu')(merge)\n",
    "    output = Dense(3, activation='softmax')(hidden)\n",
    "    model = Model(inputs=ensemble_inputs, outputs=output)\n",
    "    model([ensemble_inputs,output])\n",
    "    # Plotting the ensemble model\n",
    "    #plot_model(model, show_shapes=True, to_file=args.model_plot)\n",
    "    # Compiling the model\n",
    "    model.compile(loss='categorical_crossentropy', optimizer='adam', metrics=['accuracy', 'AUC'])\n",
    "    #model.summary()\n",
    "    return model\n"
   ]
  },
  {
   "cell_type": "markdown",
   "metadata": {},
   "source": [
    "Reading the COVIDx dataset files and creating generators to load data"
   ]
  },
  {
   "cell_type": "code",
   "execution_count": 4,
   "metadata": {},
   "outputs": [],
   "source": [
    "# Reading training dataset csv and extracting labels\n",
    "df_train = pd.read_csv(args.train_file, sep=' ', header=0, index_col=None)\n",
    "train_labels = df_train['class']\n",
    "\n",
    "# Reading testing dataset csv and extracting labels\n",
    "df_test = pd.read_csv(args.test_file, sep=' ', header=0, index_col=None)\n",
    "test_labels = df_test['class']\n",
    "\n",
    "# Extracting unique classes\n",
    "classes = test_labels.unique()\n",
    "\n",
    "test_generator = ProcessedDatasetGenerator(\n",
    "        data_dir=os.path.join(args.data_dir),\n",
    "        input_shape=(args.input_size, args.input_size),\n",
    "        num_channels=args.num_channels,\n",
    "        is_validation = False,\n",
    "        data_files=df_test.to_csv(header=None, index=False, sep=\" \").strip('\\n').split(\"\\n\")\n",
    ")\n",
    "\n",
    "\n",
    "def get_generators(df_trn, df_val):\n",
    "    trn_generator = ProcessedDatasetGenerator(\n",
    "        data_dir=os.path.join(args.data_dir),\n",
    "        data_files=df_trn.to_csv(header=None, index=False, sep=\" \").strip('\\n').split(\"\\n\"),\n",
    "        batch_size=1,\n",
    "        input_shape=(args.input_size, args.input_size),\n",
    "        num_channels=args.num_channels\n",
    "    )\n",
    "\n",
    "    val_generator = ProcessedDatasetGenerator(\n",
    "        data_dir=os.path.join(args.data_dir),\n",
    "        input_shape=(args.input_size, args.input_size),\n",
    "        num_channels=args.num_channels,\n",
    "        is_validation=True,\n",
    "        batch_size=1,\n",
    "        data_files=df_val.to_csv(header=None, index=False, sep=\" \").strip('\\n').split(\"\\n\")\n",
    "    )\n",
    "\n",
    "    return trn_generator, val_generator"
   ]
  },
  {
   "cell_type": "markdown",
   "metadata": {},
   "source": [
    "Training the model and predicting"
   ]
  },
  {
   "cell_type": "code",
   "execution_count": 5,
   "metadata": {},
   "outputs": [
    {
     "name": "stdout",
     "output_type": "stream",
     "text": [
      "[INFO] Loaded: Xception\n",
      "[INFO] Loaded: VGG16\n",
      "[INFO] Loaded: VGG19\n",
      "[INFO] Loaded: ResNet50V2\n",
      "[INFO] Loaded: ResNet101V2\n",
      "[INFO] Loaded: ResNet152V2\n",
      "[INFO] Loaded: InceptionV3\n",
      "[INFO] Loaded: InceptionResNetV2\n",
      "[INFO] Loaded: MobileNet\n",
      "[INFO] Loaded: MobileNetV2\n",
      "[INFO] Loaded: DenseNet121\n",
      "[INFO] Loaded: DenseNet169\n",
      "[INFO] Loaded: DenseNet201\n",
      "[INFO] Loaded: NASNetMobile\n",
      "[INFO] Loaded: NASNetLarge\n",
      "[INFO] Loaded all models\n"
     ]
    }
   ],
   "source": [
    "# Training the model\n",
    "members = load_all_models(N_MODELS)\n"
   ]
  },
  {
   "cell_type": "code",
   "execution_count": 6,
   "metadata": {},
   "outputs": [],
   "source": [
    "def predict_stacked_model(model, test_generator):\n",
    "    return model.predict(test_generator, steps=len(test_generator), verbose=1)\n",
    "        \n",
    "# create stacked model input dataset as outputs from the ensemble\n",
    "def stacked_dataset(members, train_generator):\n",
    "    stackX = None\n",
    "    for model in members:\n",
    "        # make prediction\n",
    "        yhat = model.predict(train_generator, verbose=1)\n",
    "        # stack predictions into [rows, members, probabilities]\n",
    "        if stackX is None:\n",
    "            stackX = yhat\n",
    "        else:\n",
    "            stackX = dstack((stackX, yhat))\n",
    "    # flatten predictions to [rows, members x probabilities]\n",
    "    stackX = stackX.reshape((stackX.shape[0], stackX.shape[1]*stackX.shape[2]))\n",
    "    return stackX"
   ]
  },
  {
   "cell_type": "code",
   "execution_count": 7,
   "metadata": {},
   "outputs": [
    {
     "name": "stdout",
     "output_type": "stream",
     "text": [
      "9329/9329 [==============================] - 257s 28ms/step\n",
      "9329/9329 [==============================] - 278s 30ms/step\n",
      "9329/9329 [==============================] - 281s 30ms/step\n",
      "9329/9329 [==============================] - 250s 27ms/step\n",
      "9329/9329 [==============================] - 272s 29ms/step\n",
      "9329/9329 [==============================] - 332s 36ms/step\n",
      "9329/9329 [==============================] - 265s 28ms/step\n",
      "9329/9329 [==============================] - 399s 43ms/step\n",
      "9329/9329 [==============================] - 263s 28ms/step\n",
      "9329/9329 [==============================] - 255s 27ms/step\n",
      "9329/9329 [==============================] - 268s 29ms/step\n",
      "9329/9329 [==============================] - 296s 32ms/step\n",
      "9329/9329 [==============================] - 317s 34ms/step\n",
      "9329/9329 [==============================] - 362s 39ms/step\n",
      "9329/9329 [==============================] - 603s 65ms/step\n",
      "4596/4596 [==============================] - 123s 27ms/step\n",
      "4596/4596 [==============================] - 136s 30ms/step\n",
      "4596/4596 [==============================] - 137s 30ms/step\n",
      "4596/4596 [==============================] - 122s 26ms/step\n",
      "4596/4596 [==============================] - 131s 28ms/step\n",
      "4596/4596 [==============================] - 159s 35ms/step\n",
      "4596/4596 [==============================] - 127s 28ms/step\n",
      "4596/4596 [==============================] - 197s 43ms/step\n",
      "4596/4596 [==============================] - 126s 27ms/step\n",
      "4596/4596 [==============================] - 122s 27ms/step\n",
      "4596/4596 [==============================] - 127s 28ms/step\n",
      "4596/4596 [==============================] - 144s 31ms/step\n",
      "4596/4596 [==============================] - 157s 34ms/step\n",
      "4596/4596 [==============================] - 176s 38ms/step\n",
      "4596/4596 [==============================] - 294s 64ms/step\n"
     ]
    }
   ],
   "source": [
    "X_train, X_val, y_train, y_val = train_test_split(df_train, df_train['class'], test_size=0.33, random_state=42)\n",
    "train_generator, validation_generator = get_generators(X_train, X_val)\n",
    "\n",
    "# fit a model based on the outputs from the ensemble members\n",
    "def fit_stacked_model(members, train_generator, inputy):\n",
    "    # create dataset using ensemble\n",
    "    stackedX = stacked_dataset(members, train_generator)\n",
    "    # fit standalone model\n",
    "    model = LogisticRegression(class_weight={0:1,1:2.5,2:30}, n_jobs=-1)\n",
    "    model.fit(stackedX, inputy)\n",
    "    return model\n",
    "\n",
    "temp = []\n",
    "for i in y_train:\n",
    "    temp.append(train_generator.mapping.get(i))\n",
    "y_train=temp\n",
    "del(temp)\n",
    "\n",
    "# fit stacked model using the ensemble\n",
    "model = fit_stacked_model(members, train_generator, y_train)\n",
    "\n",
    "# make a prediction with the stacked model\n",
    "def stacked_prediction(members, model, test_generator):\n",
    "    # create dataset using ensemble\n",
    "    stackedX = stacked_dataset(members, test_generator)\n",
    "    # make a prediction\n",
    "    yhat = model.predict(stackedX)\n",
    "    return yhat\n",
    "\n",
    "# evaluate model on validation set\n",
    "y_val_pred = stacked_prediction(members, model, validation_generator)"
   ]
  },
  {
   "cell_type": "code",
   "execution_count": 8,
   "metadata": {},
   "outputs": [
    {
     "name": "stdout",
     "output_type": "stream",
     "text": [
      "Stacked Val Accuracy: 0.899\n"
     ]
    },
    {
     "data": {
      "text/plain": [
       "0.9410110504534648"
      ]
     },
     "execution_count": 8,
     "metadata": {},
     "output_type": "execute_result"
    }
   ],
   "source": [
    "temp = []\n",
    "for i in y_val:\n",
    "    temp.append(train_generator.mapping.get(i))\n",
    "y_val = temp\n",
    "del(temp)\n",
    "\n",
    "acc = accuracy_score(y_val, y_val_pred)\n",
    "print('Stacked Val Accuracy: %.3f' % acc)\n",
    "\n",
    "y_val = np.asarray(y_val)\n",
    "\n",
    "from sklearn import metrics\n",
    "fpr, tpr, thresholds = metrics.roc_curve(y_val, y_val_pred, pos_label=2)\n",
    "metrics.auc(fpr, tpr)\n"
   ]
  },
  {
   "cell_type": "code",
   "execution_count": 9,
   "metadata": {},
   "outputs": [],
   "source": [
    "'''\n",
    "Function to plot confusion matrix\n",
    "Citation: https://www.kaggle.com/grfiv4/plot-a-confusion-matrix\n",
    "'''\n",
    "def plot_confusion_matrix(cm,\n",
    "                          target_names,\n",
    "                          title='Confusion matrix',\n",
    "                          cmap=None,\n",
    "                          normalize=True):\n",
    "    \"\"\"\n",
    "    given a sklearn confusion matrix (cm), make a nice plot\n",
    "\n",
    "    Arguments\n",
    "    ---------\n",
    "    cm:           confusion matrix from sklearn.metrics.confusion_matrix\n",
    "\n",
    "    target_names: given classification classes such as [0, 1, 2]\n",
    "                  the class names, for example: ['high', 'medium', 'low']\n",
    "\n",
    "    title:        the text to display at the top of the matrix\n",
    "\n",
    "    cmap:         the gradient of the values displayed from matplotlib.pyplot.cm\n",
    "                  see http://matplotlib.org/examples/color/colormaps_reference.html\n",
    "                  plt.get_cmap('jet') or plt.cm.Blues\n",
    "\n",
    "    normalize:    If False, plot the raw numbers\n",
    "                  If True, plot the proportions\n",
    "\n",
    "    Usage\n",
    "    -----\n",
    "    plot_confusion_matrix(cm           = cm,                  # confusion matrix created by\n",
    "                                                              # sklearn.metrics.confusion_matrix\n",
    "                          normalize    = True,                # show proportions\n",
    "                          target_names = y_labels_vals,       # list of names of the classes\n",
    "                          title        = best_estimator_name) # title of graph\n",
    "\n",
    "    Citiation\n",
    "    ---------\n",
    "    http://scikit-learn.org/stable/auto_examples/model_selection/plot_confusion_matrix.html\n",
    "\n",
    "    \"\"\"\n",
    "    import matplotlib.pyplot as plt\n",
    "    import numpy as np\n",
    "    import itertools\n",
    "\n",
    "    accuracy = np.trace(cm) / float(np.sum(cm))\n",
    "    misclass = 1 - accuracy\n",
    "\n",
    "    if cmap is None:\n",
    "        cmap = plt.get_cmap('Blues')\n",
    "\n",
    "    plt.figure(figsize=(8, 6))\n",
    "    plt.imshow(cm, interpolation='nearest', cmap=cmap)\n",
    "    plt.title(title)\n",
    "    plt.colorbar()\n",
    "\n",
    "    if target_names is not None:\n",
    "        tick_marks = np.arange(len(target_names))\n",
    "        plt.xticks(tick_marks, target_names, rotation=45)\n",
    "        plt.yticks(tick_marks, target_names)\n",
    "\n",
    "    if normalize:\n",
    "        cm = cm.astype('float') / cm.sum(axis=1)[:, np.newaxis]\n",
    "\n",
    "\n",
    "    thresh = cm.max() / 1.5 if normalize else cm.max() / 2\n",
    "    for i, j in itertools.product(range(cm.shape[0]), range(cm.shape[1])):\n",
    "        if normalize:\n",
    "            plt.text(j, i, \"{:0.4f}\".format(cm[i, j]),\n",
    "                     horizontalalignment=\"center\",\n",
    "                     color=\"white\" if cm[i, j] > thresh else \"black\")\n",
    "        else:\n",
    "            plt.text(j, i, \"{:,}\".format(cm[i, j]),\n",
    "                     horizontalalignment=\"center\",\n",
    "                     color=\"white\" if cm[i, j] > thresh else \"black\")\n",
    "\n",
    "\n",
    "    plt.tight_layout()\n",
    "    plt.ylabel('True label')\n",
    "    plt.xlabel('Predicted label\\naccuracy={:0.4f}; misclass={:0.4f}'.format(accuracy, misclass))\n",
    "    plt.show()"
   ]
  },
  {
   "cell_type": "code",
   "execution_count": 10,
   "metadata": {},
   "outputs": [
    {
     "name": "stdout",
     "output_type": "stream",
     "text": [
      "              precision    recall  f1-score   support\n",
      "\n",
      "      normal       0.94      0.90      0.92      2674\n",
      "   pneumonia       0.86      0.90      0.88      1758\n",
      "    COVID-19       0.77      0.87      0.82       164\n",
      "\n",
      "    accuracy                           0.90      4596\n",
      "   macro avg       0.86      0.89      0.87      4596\n",
      "weighted avg       0.90      0.90      0.90      4596\n",
      "\n"
     ]
    }
   ],
   "source": [
    "print(classification_report(y_val, y_val_pred, target_names=train_generator.mapping))"
   ]
  },
  {
   "cell_type": "code",
   "execution_count": 11,
   "metadata": {},
   "outputs": [
    {
     "name": "stdout",
     "output_type": "stream",
     "text": [
      "[[2410  255    9]\n",
      " [ 148 1577   33]\n",
      " [   9   12  143]]\n",
      "Overall Accuracy: 0.8986\n",
      "COVID Sensitivity: 0.9013\n",
      "COVID Specificity: 0.9183\n"
     ]
    },
    {
     "data": {
      "image/png": "[encoded data removed]",
      "text/plain": [
       "<Figure size 576x432 with 2 Axes>"
      ]
     },
     "metadata": {
      "needs_background": "light"
     },
     "output_type": "display_data"
    }
   ],
   "source": [
    "# Generating confusion matrix and calculating: accuracy, sensitivity and specificity\n",
    "cm = confusion_matrix(y_val, y_val_pred)\n",
    "total = sum(sum(cm))\n",
    "acc = (cm[0, 0] + cm[1, 1] + cm[2, 2]) / total\n",
    "sensitivity = cm[0, 0] / (cm[0, 0] + cm[0, 1] + cm[0, 2])\n",
    "TN = cm[1, 1] + cm[1, 2] + cm[2, 1] + cm[2, 2]\n",
    "FP = cm[1, 0] + cm[2, 0]\n",
    "specificity = TN / (TN + FP)\n",
    "\n",
    "# Printing found values\n",
    "print(cm)\n",
    "print(\"Overall Accuracy: {:.4f}\".format(acc))\n",
    "print(\"COVID Sensitivity: {:.4f}\".format(sensitivity))\n",
    "print(\"COVID Specificity: {:.4f}\".format(specificity))\n",
    "\n",
    "# Plot normalized confusion matrix\n",
    "plot_confusion_matrix(cm, \n",
    "                      normalize    = False,\n",
    "                      target_names = list(train_generator.mapping.keys()),\n",
    "                      title        = \"Confusion Matrix\")"
   ]
  },
  {
   "cell_type": "code",
   "execution_count": 12,
   "metadata": {},
   "outputs": [
    {
     "name": "stdout",
     "output_type": "stream",
     "text": [
      "1579/1579 [==============================] - 44s 28ms/step\n",
      "1579/1579 [==============================] - 46s 29ms/step\n",
      "1579/1579 [==============================] - 47s 30ms/step\n",
      "1579/1579 [==============================] - 42s 27ms/step\n",
      "1579/1579 [==============================] - 46s 29ms/step\n",
      "1579/1579 [==============================] - 57s 36ms/step\n",
      "1579/1579 [==============================] - 44s 28ms/step\n",
      "1579/1579 [==============================] - 68s 43ms/step\n",
      "1579/1579 [==============================] - 44s 28ms/step\n",
      "1579/1579 [==============================] - 42s 27ms/step\n",
      "1579/1579 [==============================] - 45s 28ms/step\n",
      "1579/1579 [==============================] - 50s 32ms/step\n",
      "1579/1579 [==============================] - 55s 35ms/step\n",
      "1579/1579 [==============================] - 63s 40ms/step\n",
      "1579/1579 [==============================] - 102s 65ms/step\n",
      "Stacked Val Accuracy: 0.906\n",
      "              precision    recall  f1-score   support\n",
      "\n",
      "      normal       0.95      0.90      0.93       885\n",
      "   pneumonia       0.86      0.93      0.89       594\n",
      "    COVID-19       0.83      0.80      0.82       100\n",
      "\n",
      "    accuracy                           0.91      1579\n",
      "   macro avg       0.88      0.88      0.88      1579\n",
      "weighted avg       0.91      0.91      0.91      1579\n",
      "\n",
      "[[800  79   6]\n",
      " [ 33 551  10]\n",
      " [  7  13  80]]\n",
      "Overall Accuracy: 0.9063\n",
      "COVID Sensitivity: 0.9040\n",
      "COVID Specificity: 0.9424\n"
     ]
    },
    {
     "data": {
      "image/png": "[encoded data removed]",
      "text/plain": [
       "<Figure size 576x432 with 2 Axes>"
      ]
     },
     "metadata": {
      "needs_background": "light"
     },
     "output_type": "display_data"
    }
   ],
   "source": [
    "# evaluate model on test set\n",
    "y_test_pred = stacked_prediction(members, model, test_generator)\n",
    "\n",
    "temp = []\n",
    "for i in test_labels:\n",
    "    temp.append(train_generator.mapping.get(i))\n",
    "y_test = temp\n",
    "del(temp)\n",
    "\n",
    "acc = accuracy_score(y_test, y_test_pred)\n",
    "print('Stacked Val Accuracy: %.3f' % acc)\n",
    "\n",
    "#y_test = np.asarray(y_test)\n",
    "\n",
    "from sklearn import metrics\n",
    "fpr, tpr, thresholds = metrics.roc_curve(y_test, y_test_pred, pos_label=2)\n",
    "metrics.auc(fpr, tpr)\n",
    "\n",
    "print(classification_report(y_test, y_test_pred, target_names=train_generator.mapping))\n",
    "\n",
    "# Generating confusion matrix and calculating: accuracy, sensitivity and specificity\n",
    "cm = confusion_matrix(y_test, y_test_pred)\n",
    "total = sum(sum(cm))\n",
    "acc = (cm[0, 0] + cm[1, 1] + cm[2, 2]) / total\n",
    "sensitivity = cm[0, 0] / (cm[0, 0] + cm[0, 1] + cm[0, 2])\n",
    "TN = cm[1, 1] + cm[1, 2] + cm[2, 1] + cm[2, 2]\n",
    "FP = cm[1, 0] + cm[2, 0]\n",
    "specificity = TN / (TN + FP)\n",
    "\n",
    "# Printing found values\n",
    "print(cm)\n",
    "print(\"Overall Accuracy: {:.4f}\".format(acc))\n",
    "print(\"COVID Sensitivity: {:.4f}\".format(sensitivity))\n",
    "print(\"COVID Specificity: {:.4f}\".format(specificity))\n",
    "\n",
    "# Plot normalized confusion matrix\n",
    "plot_confusion_matrix(cm, \n",
    "                      normalize    = False,\n",
    "                      target_names = list(train_generator.mapping.keys()),\n",
    "                      title        = \"Confusion Matrix\")"
   ]
  },
  {
   "cell_type": "code",
   "execution_count": 13,
   "metadata": {},
   "outputs": [
    {
     "ename": "IndexError",
     "evalue": "too many indices for array",
     "output_type": "error",
     "traceback": [
      "\u001b[0;31m---------------------------------------------------------------------------\u001b[0m",
      "\u001b[0;31mIndexError\u001b[0m                                Traceback (most recent call last)",
      "\u001b[0;32m<ipython-input-13-400de0dbabd8>\u001b[0m in \u001b[0;36m<module>\u001b[0;34m\u001b[0m\n\u001b[1;32m      8\u001b[0m \u001b[0mroc_auc\u001b[0m \u001b[0;34m=\u001b[0m \u001b[0mdict\u001b[0m\u001b[0;34m(\u001b[0m\u001b[0;34m)\u001b[0m\u001b[0;34m\u001b[0m\u001b[0;34m\u001b[0m\u001b[0m\n\u001b[1;32m      9\u001b[0m \u001b[0;32mfor\u001b[0m \u001b[0mi\u001b[0m \u001b[0;32min\u001b[0m \u001b[0mrange\u001b[0m\u001b[0;34m(\u001b[0m\u001b[0margs\u001b[0m\u001b[0;34m.\u001b[0m\u001b[0mnum_classes\u001b[0m\u001b[0;34m)\u001b[0m\u001b[0;34m:\u001b[0m\u001b[0;34m\u001b[0m\u001b[0;34m\u001b[0m\u001b[0m\n\u001b[0;32m---> 10\u001b[0;31m     \u001b[0mfpr\u001b[0m\u001b[0;34m[\u001b[0m\u001b[0mi\u001b[0m\u001b[0;34m]\u001b[0m\u001b[0;34m,\u001b[0m \u001b[0mtpr\u001b[0m\u001b[0;34m[\u001b[0m\u001b[0mi\u001b[0m\u001b[0;34m]\u001b[0m\u001b[0;34m,\u001b[0m \u001b[0m_\u001b[0m \u001b[0;34m=\u001b[0m \u001b[0mroc_curve\u001b[0m\u001b[0;34m(\u001b[0m\u001b[0my_val\u001b[0m\u001b[0;34m[\u001b[0m\u001b[0;34m:\u001b[0m\u001b[0;34m,\u001b[0m \u001b[0mi\u001b[0m\u001b[0;34m]\u001b[0m\u001b[0;34m,\u001b[0m \u001b[0my_val_pred\u001b[0m\u001b[0;34m[\u001b[0m\u001b[0;34m:\u001b[0m\u001b[0;34m,\u001b[0m \u001b[0mi\u001b[0m\u001b[0;34m]\u001b[0m\u001b[0;34m)\u001b[0m\u001b[0;34m\u001b[0m\u001b[0;34m\u001b[0m\u001b[0m\n\u001b[0m\u001b[1;32m     11\u001b[0m     \u001b[0mroc_auc\u001b[0m\u001b[0;34m[\u001b[0m\u001b[0mi\u001b[0m\u001b[0;34m]\u001b[0m \u001b[0;34m=\u001b[0m \u001b[0mauc\u001b[0m\u001b[0;34m(\u001b[0m\u001b[0mfpr\u001b[0m\u001b[0;34m[\u001b[0m\u001b[0mi\u001b[0m\u001b[0;34m]\u001b[0m\u001b[0;34m,\u001b[0m \u001b[0mtpr\u001b[0m\u001b[0;34m[\u001b[0m\u001b[0mi\u001b[0m\u001b[0;34m]\u001b[0m\u001b[0;34m)\u001b[0m\u001b[0;34m\u001b[0m\u001b[0;34m\u001b[0m\u001b[0m\n\u001b[1;32m     12\u001b[0m \u001b[0mlw\u001b[0m\u001b[0;34m=\u001b[0m\u001b[0;36m2\u001b[0m\u001b[0;34m\u001b[0m\u001b[0;34m\u001b[0m\u001b[0m\n",
      "\u001b[0;31mIndexError\u001b[0m: too many indices for array"
     ]
    }
   ],
   "source": [
    "from sklearn.preprocessing import label_binarize\n",
    "temp = label_binarize(y_val, classes=[0, 1, 2])\n",
    "yhat = label_binarize(y_val_pred, classes=[0, 1, 2])\n",
    "from sklearn.metrics import roc_curve, auc\n",
    "# Compute ROC curve and ROC area for each class\n",
    "fpr = dict()\n",
    "tpr = dict()\n",
    "roc_auc = dict()\n",
    "for i in range(args.num_classes):\n",
    "    fpr[i], tpr[i], _ = roc_curve(y_val[:, i], y_val_pred[:, i])\n",
    "    roc_auc[i] = auc(fpr[i], tpr[i])\n",
    "lw=2\n",
    "plt.figure()\n",
    "plt.plot(fpr[2], tpr[2], color='green',\n",
    "         lw=lw, label='COVID-19 ROC curve (area = %0.2f)' % roc_auc[2])\n",
    "plt.plot(fpr[1], tpr[1], color='red',\n",
    "         lw=lw, label='pneumonia ROC curve (area = %0.2f)' % roc_auc[1])\n",
    "plt.plot(fpr[0], tpr[0], color='blue',\n",
    "         lw=lw, label='normal ROC curve (area = %0.2f)' % roc_auc[0])\n",
    "plt.plot([0, 1], [0, 1], color='navy', lw=lw, linestyle='--')\n",
    "plt.xlim([0.0, 1.0])\n",
    "plt.ylim([0.0, 1.05])\n",
    "plt.xlabel('False Positive Rate')\n",
    "plt.ylabel('True Positive Rate')\n",
    "plt.title('Receiver operating characteristic example')\n",
    "plt.legend(loc=\"lower right\")\n",
    "plt.show()"
   ]
  },
  {
   "cell_type": "code",
   "execution_count": null,
   "metadata": {},
   "outputs": [],
   "source": []
  }
 ],
 "metadata": {
  "kernelspec": {
   "display_name": "Python 3.6 (tensorflow)",
   "language": "python",
   "name": "tensorflow"
  },
  "language_info": {
   "codemirror_mode": {
    "name": "ipython",
    "version": 3
   },
   "file_extension": ".py",
   "mimetype": "text/x-python",
   "name": "python",
   "nbconvert_exporter": "python",
   "pygments_lexer": "ipython3",
   "version": "3.6.10"
  }
 },
 "nbformat": 4,
 "nbformat_minor": 4
}
